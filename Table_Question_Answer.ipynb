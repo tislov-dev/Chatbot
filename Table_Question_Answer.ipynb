{
  "nbformat": 4,
  "nbformat_minor": 0,
  "metadata": {
    "colab": {
      "name": "Table Question Answer.ipynb",
      "provenance": [],
      "authorship_tag": "ABX9TyPFpAro74c/sI2bvVv5GPzg",
      "include_colab_link": true
    },
    "kernelspec": {
      "name": "python3",
      "display_name": "Python 3"
    },
    "accelerator": "GPU"
  },
  "cells": [
    {
      "cell_type": "markdown",
      "metadata": {
        "id": "view-in-github",
        "colab_type": "text"
      },
      "source": [
        "<a href=\"https://colab.research.google.com/github/tislov-dev/Chatbot/blob/main/Table_Question_Answer.ipynb\" target=\"_parent\"><img src=\"https://colab.research.google.com/assets/colab-badge.svg\" alt=\"Open In Colab\"/></a>"
      ]
    },
    {
      "cell_type": "code",
      "metadata": {
        "id": "MNALLO2AtaJT"
      },
      "source": [
        "!pip install transformers\r\n",
        "!pip install torch-scatter -f https://pytorch-geometric.com/whl/torch-1.7.0+${CUDA}.html"
      ],
      "execution_count": null,
      "outputs": []
    },
    {
      "cell_type": "code",
      "metadata": {
        "id": "o3jzuX-7yLfX"
      },
      "source": [
        "from transformers import pipeline\r\n",
        "import pandas as pd"
      ],
      "execution_count": 12,
      "outputs": []
    },
    {
      "cell_type": "code",
      "metadata": {
        "id": "XcD54csHyOiG"
      },
      "source": [
        "nlp_qg = pipeline(\"table-question-answering\", )"
      ],
      "execution_count": null,
      "outputs": []
    },
    {
      "cell_type": "code",
      "metadata": {
        "colab": {
          "base_uri": "https://localhost:8080/",
          "height": 534
        },
        "id": "uuRGVSdKEal-",
        "outputId": "53d6f670-2dfc-4ed9-c9f6-40442721bb65"
      },
      "source": [
        "data = pd.read_csv('Sample - Superstore.csv')\r\n",
        "data.head()"
      ],
      "execution_count": 90,
      "outputs": [
        {
          "output_type": "execute_result",
          "data": {
            "text/html": [
              "<div>\n",
              "<style scoped>\n",
              "    .dataframe tbody tr th:only-of-type {\n",
              "        vertical-align: middle;\n",
              "    }\n",
              "\n",
              "    .dataframe tbody tr th {\n",
              "        vertical-align: top;\n",
              "    }\n",
              "\n",
              "    .dataframe thead th {\n",
              "        text-align: right;\n",
              "    }\n",
              "</style>\n",
              "<table border=\"1\" class=\"dataframe\">\n",
              "  <thead>\n",
              "    <tr style=\"text-align: right;\">\n",
              "      <th></th>\n",
              "      <th>Row ID</th>\n",
              "      <th>Order ID</th>\n",
              "      <th>Order Date</th>\n",
              "      <th>Ship Date</th>\n",
              "      <th>Ship Mode</th>\n",
              "      <th>Customer ID</th>\n",
              "      <th>Customer Name</th>\n",
              "      <th>Segment</th>\n",
              "      <th>Country/Region</th>\n",
              "      <th>City</th>\n",
              "      <th>State</th>\n",
              "      <th>Postal Code</th>\n",
              "      <th>Region</th>\n",
              "      <th>Product ID</th>\n",
              "      <th>Category</th>\n",
              "      <th>Sub-Category</th>\n",
              "      <th>Product Name</th>\n",
              "      <th>Sales</th>\n",
              "      <th>Quantity</th>\n",
              "      <th>Discount</th>\n",
              "      <th>Profit</th>\n",
              "    </tr>\n",
              "  </thead>\n",
              "  <tbody>\n",
              "    <tr>\n",
              "      <th>0</th>\n",
              "      <td>1</td>\n",
              "      <td>CA-2019-152156</td>\n",
              "      <td>11/08/2019</td>\n",
              "      <td>11/11/2019</td>\n",
              "      <td>Second Class</td>\n",
              "      <td>CG-12520</td>\n",
              "      <td>Claire Gute</td>\n",
              "      <td>Consumer</td>\n",
              "      <td>United States</td>\n",
              "      <td>Henderson</td>\n",
              "      <td>Kentucky</td>\n",
              "      <td>42420.0</td>\n",
              "      <td>South</td>\n",
              "      <td>FUR-BO-10001798</td>\n",
              "      <td>Furniture</td>\n",
              "      <td>Bookcases</td>\n",
              "      <td>Bush Somerset Collection Bookcase</td>\n",
              "      <td>261.9600</td>\n",
              "      <td>2</td>\n",
              "      <td>0.00</td>\n",
              "      <td>41.9136</td>\n",
              "    </tr>\n",
              "    <tr>\n",
              "      <th>1</th>\n",
              "      <td>2</td>\n",
              "      <td>CA-2019-152156</td>\n",
              "      <td>11/08/2019</td>\n",
              "      <td>11/11/2019</td>\n",
              "      <td>Second Class</td>\n",
              "      <td>CG-12520</td>\n",
              "      <td>Claire Gute</td>\n",
              "      <td>Consumer</td>\n",
              "      <td>United States</td>\n",
              "      <td>Henderson</td>\n",
              "      <td>Kentucky</td>\n",
              "      <td>42420.0</td>\n",
              "      <td>South</td>\n",
              "      <td>FUR-CH-10000454</td>\n",
              "      <td>Furniture</td>\n",
              "      <td>Chairs</td>\n",
              "      <td>Hon Deluxe Fabric Upholstered Stacking Chairs,...</td>\n",
              "      <td>731.9400</td>\n",
              "      <td>3</td>\n",
              "      <td>0.00</td>\n",
              "      <td>219.5820</td>\n",
              "    </tr>\n",
              "    <tr>\n",
              "      <th>2</th>\n",
              "      <td>3</td>\n",
              "      <td>CA-2019-138688</td>\n",
              "      <td>06/12/2019</td>\n",
              "      <td>06/16/2019</td>\n",
              "      <td>Second Class</td>\n",
              "      <td>DV-13045</td>\n",
              "      <td>Darrin Van Huff</td>\n",
              "      <td>Corporate</td>\n",
              "      <td>United States</td>\n",
              "      <td>Los Angeles</td>\n",
              "      <td>California</td>\n",
              "      <td>90036.0</td>\n",
              "      <td>West</td>\n",
              "      <td>OFF-LA-10000240</td>\n",
              "      <td>Office Supplies</td>\n",
              "      <td>Labels</td>\n",
              "      <td>Self-Adhesive Address Labels for Typewriters b...</td>\n",
              "      <td>14.6200</td>\n",
              "      <td>2</td>\n",
              "      <td>0.00</td>\n",
              "      <td>6.8714</td>\n",
              "    </tr>\n",
              "    <tr>\n",
              "      <th>3</th>\n",
              "      <td>4</td>\n",
              "      <td>US-2018-108966</td>\n",
              "      <td>10/11/2018</td>\n",
              "      <td>10/18/2018</td>\n",
              "      <td>Standard Class</td>\n",
              "      <td>SO-20335</td>\n",
              "      <td>Sean O'Donnell</td>\n",
              "      <td>Consumer</td>\n",
              "      <td>United States</td>\n",
              "      <td>Fort Lauderdale</td>\n",
              "      <td>Florida</td>\n",
              "      <td>33311.0</td>\n",
              "      <td>South</td>\n",
              "      <td>FUR-TA-10000577</td>\n",
              "      <td>Furniture</td>\n",
              "      <td>Tables</td>\n",
              "      <td>Bretford CR4500 Series Slim Rectangular Table</td>\n",
              "      <td>957.5775</td>\n",
              "      <td>5</td>\n",
              "      <td>0.45</td>\n",
              "      <td>-383.0310</td>\n",
              "    </tr>\n",
              "    <tr>\n",
              "      <th>4</th>\n",
              "      <td>5</td>\n",
              "      <td>US-2018-108966</td>\n",
              "      <td>10/11/2018</td>\n",
              "      <td>10/18/2018</td>\n",
              "      <td>Standard Class</td>\n",
              "      <td>SO-20335</td>\n",
              "      <td>Sean O'Donnell</td>\n",
              "      <td>Consumer</td>\n",
              "      <td>United States</td>\n",
              "      <td>Fort Lauderdale</td>\n",
              "      <td>Florida</td>\n",
              "      <td>33311.0</td>\n",
              "      <td>South</td>\n",
              "      <td>OFF-ST-10000760</td>\n",
              "      <td>Office Supplies</td>\n",
              "      <td>Storage</td>\n",
              "      <td>Eldon Fold 'N Roll Cart System</td>\n",
              "      <td>22.3680</td>\n",
              "      <td>2</td>\n",
              "      <td>0.20</td>\n",
              "      <td>2.5164</td>\n",
              "    </tr>\n",
              "  </tbody>\n",
              "</table>\n",
              "</div>"
            ],
            "text/plain": [
              "   Row ID        Order ID  Order Date  ... Quantity Discount    Profit\n",
              "0       1  CA-2019-152156  11/08/2019  ...        2     0.00   41.9136\n",
              "1       2  CA-2019-152156  11/08/2019  ...        3     0.00  219.5820\n",
              "2       3  CA-2019-138688  06/12/2019  ...        2     0.00    6.8714\n",
              "3       4  US-2018-108966  10/11/2018  ...        5     0.45 -383.0310\n",
              "4       5  US-2018-108966  10/11/2018  ...        2     0.20    2.5164\n",
              "\n",
              "[5 rows x 21 columns]"
            ]
          },
          "metadata": {
            "tags": []
          },
          "execution_count": 90
        }
      ]
    },
    {
      "cell_type": "code",
      "metadata": {
        "colab": {
          "base_uri": "https://localhost:8080/"
        },
        "id": "GANqvF3kWCWO",
        "outputId": "07324b65-7a73-447f-8a6c-51741759c1a6"
      },
      "source": [
        "tt = data.to_records()"
      ],
      "execution_count": 92,
      "outputs": [
        {
          "output_type": "stream",
          "text": [
            "('Row ID', 0          1\n",
            "1          2\n",
            "2          3\n",
            "3          4\n",
            "4          5\n",
            "        ... \n",
            "9989    9990\n",
            "9990    9991\n",
            "9991    9992\n",
            "9992    9993\n",
            "9993    9994\n",
            "Name: Row ID, Length: 9994, dtype: int64)\n",
            "('Order ID', 0       CA-2019-152156\n",
            "1       CA-2019-152156\n",
            "2       CA-2019-138688\n",
            "3       US-2018-108966\n",
            "4       US-2018-108966\n",
            "             ...      \n",
            "9989    CA-2017-110422\n",
            "9990    CA-2020-121258\n",
            "9991    CA-2020-121258\n",
            "9992    CA-2020-121258\n",
            "9993    CA-2020-119914\n",
            "Name: Order ID, Length: 9994, dtype: object)\n",
            "('Order Date', 0       11/08/2019\n",
            "1       11/08/2019\n",
            "2       06/12/2019\n",
            "3       10/11/2018\n",
            "4       10/11/2018\n",
            "           ...    \n",
            "9989    01/21/2017\n",
            "9990    02/26/2020\n",
            "9991    02/26/2020\n",
            "9992    02/26/2020\n",
            "9993    05/04/2020\n",
            "Name: Order Date, Length: 9994, dtype: object)\n",
            "('Ship Date', 0       11/11/2019\n",
            "1       11/11/2019\n",
            "2       06/16/2019\n",
            "3       10/18/2018\n",
            "4       10/18/2018\n",
            "           ...    \n",
            "9989    01/23/2017\n",
            "9990    03/03/2020\n",
            "9991    03/03/2020\n",
            "9992    03/03/2020\n",
            "9993    05/09/2020\n",
            "Name: Ship Date, Length: 9994, dtype: object)\n",
            "('Ship Mode', 0         Second Class\n",
            "1         Second Class\n",
            "2         Second Class\n",
            "3       Standard Class\n",
            "4       Standard Class\n",
            "             ...      \n",
            "9989      Second Class\n",
            "9990    Standard Class\n",
            "9991    Standard Class\n",
            "9992    Standard Class\n",
            "9993      Second Class\n",
            "Name: Ship Mode, Length: 9994, dtype: object)\n",
            "('Customer ID', 0       CG-12520\n",
            "1       CG-12520\n",
            "2       DV-13045\n",
            "3       SO-20335\n",
            "4       SO-20335\n",
            "          ...   \n",
            "9989    TB-21400\n",
            "9990    DB-13060\n",
            "9991    DB-13060\n",
            "9992    DB-13060\n",
            "9993    CC-12220\n",
            "Name: Customer ID, Length: 9994, dtype: object)\n",
            "('Customer Name', 0            Claire Gute\n",
            "1            Claire Gute\n",
            "2        Darrin Van Huff\n",
            "3         Sean O'Donnell\n",
            "4         Sean O'Donnell\n",
            "              ...       \n",
            "9989    Tom Boeckenhauer\n",
            "9990         Dave Brooks\n",
            "9991         Dave Brooks\n",
            "9992         Dave Brooks\n",
            "9993        Chris Cortes\n",
            "Name: Customer Name, Length: 9994, dtype: object)\n",
            "('Segment', 0        Consumer\n",
            "1        Consumer\n",
            "2       Corporate\n",
            "3        Consumer\n",
            "4        Consumer\n",
            "          ...    \n",
            "9989     Consumer\n",
            "9990     Consumer\n",
            "9991     Consumer\n",
            "9992     Consumer\n",
            "9993     Consumer\n",
            "Name: Segment, Length: 9994, dtype: object)\n",
            "('Country/Region', 0       United States\n",
            "1       United States\n",
            "2       United States\n",
            "3       United States\n",
            "4       United States\n",
            "            ...      \n",
            "9989    United States\n",
            "9990    United States\n",
            "9991    United States\n",
            "9992    United States\n",
            "9993    United States\n",
            "Name: Country/Region, Length: 9994, dtype: object)\n",
            "('City', 0             Henderson\n",
            "1             Henderson\n",
            "2           Los Angeles\n",
            "3       Fort Lauderdale\n",
            "4       Fort Lauderdale\n",
            "             ...       \n",
            "9989              Miami\n",
            "9990         Costa Mesa\n",
            "9991         Costa Mesa\n",
            "9992         Costa Mesa\n",
            "9993        Westminster\n",
            "Name: City, Length: 9994, dtype: object)\n",
            "('State', 0         Kentucky\n",
            "1         Kentucky\n",
            "2       California\n",
            "3          Florida\n",
            "4          Florida\n",
            "           ...    \n",
            "9989       Florida\n",
            "9990    California\n",
            "9991    California\n",
            "9992    California\n",
            "9993    California\n",
            "Name: State, Length: 9994, dtype: object)\n",
            "('Postal Code', 0       42420.0\n",
            "1       42420.0\n",
            "2       90036.0\n",
            "3       33311.0\n",
            "4       33311.0\n",
            "         ...   \n",
            "9989    33180.0\n",
            "9990    92627.0\n",
            "9991    92627.0\n",
            "9992    92627.0\n",
            "9993    92683.0\n",
            "Name: Postal Code, Length: 9994, dtype: float64)\n",
            "('Region', 0       South\n",
            "1       South\n",
            "2        West\n",
            "3       South\n",
            "4       South\n",
            "        ...  \n",
            "9989    South\n",
            "9990     West\n",
            "9991     West\n",
            "9992     West\n",
            "9993     West\n",
            "Name: Region, Length: 9994, dtype: object)\n",
            "('Product ID', 0       FUR-BO-10001798\n",
            "1       FUR-CH-10000454\n",
            "2       OFF-LA-10000240\n",
            "3       FUR-TA-10000577\n",
            "4       OFF-ST-10000760\n",
            "             ...       \n",
            "9989    FUR-FU-10001889\n",
            "9990    FUR-FU-10000747\n",
            "9991    TEC-PH-10003645\n",
            "9992    OFF-PA-10004041\n",
            "9993    OFF-AP-10002684\n",
            "Name: Product ID, Length: 9994, dtype: object)\n",
            "('Category', 0             Furniture\n",
            "1             Furniture\n",
            "2       Office Supplies\n",
            "3             Furniture\n",
            "4       Office Supplies\n",
            "             ...       \n",
            "9989          Furniture\n",
            "9990          Furniture\n",
            "9991         Technology\n",
            "9992    Office Supplies\n",
            "9993    Office Supplies\n",
            "Name: Category, Length: 9994, dtype: object)\n",
            "('Sub-Category', 0         Bookcases\n",
            "1            Chairs\n",
            "2            Labels\n",
            "3            Tables\n",
            "4           Storage\n",
            "           ...     \n",
            "9989    Furnishings\n",
            "9990    Furnishings\n",
            "9991         Phones\n",
            "9992          Paper\n",
            "9993     Appliances\n",
            "Name: Sub-Category, Length: 9994, dtype: object)\n",
            "('Product Name', 0                       Bush Somerset Collection Bookcase\n",
            "1       Hon Deluxe Fabric Upholstered Stacking Chairs,...\n",
            "2       Self-Adhesive Address Labels for Typewriters b...\n",
            "3           Bretford CR4500 Series Slim Rectangular Table\n",
            "4                          Eldon Fold 'N Roll Cart System\n",
            "                              ...                        \n",
            "9989                               Ultra Door Pull Handle\n",
            "9990    Tenex B1-RE Series Chair Mats for Low Pile Car...\n",
            "9991                                Aastra 57i VoIP phone\n",
            "9992    It's Hot Message Books with Stickers, 2 3/4\" x 5\"\n",
            "9993    Acco 7-Outlet Masterpiece Power Center, Wihtou...\n",
            "Name: Product Name, Length: 9994, dtype: object)\n",
            "('Sales', 0       261.9600\n",
            "1       731.9400\n",
            "2        14.6200\n",
            "3       957.5775\n",
            "4        22.3680\n",
            "          ...   \n",
            "9989     25.2480\n",
            "9990     91.9600\n",
            "9991    258.5760\n",
            "9992     29.6000\n",
            "9993    243.1600\n",
            "Name: Sales, Length: 9994, dtype: float64)\n",
            "('Quantity', 0       2\n",
            "1       3\n",
            "2       2\n",
            "3       5\n",
            "4       2\n",
            "       ..\n",
            "9989    3\n",
            "9990    2\n",
            "9991    2\n",
            "9992    4\n",
            "9993    2\n",
            "Name: Quantity, Length: 9994, dtype: int64)\n",
            "('Discount', 0       0.00\n",
            "1       0.00\n",
            "2       0.00\n",
            "3       0.45\n",
            "4       0.20\n",
            "        ... \n",
            "9989    0.20\n",
            "9990    0.00\n",
            "9991    0.20\n",
            "9992    0.00\n",
            "9993    0.00\n",
            "Name: Discount, Length: 9994, dtype: float64)\n",
            "('Profit', 0        41.9136\n",
            "1       219.5820\n",
            "2         6.8714\n",
            "3      -383.0310\n",
            "4         2.5164\n",
            "          ...   \n",
            "9989      4.1028\n",
            "9990     15.6332\n",
            "9991     19.3932\n",
            "9992     13.3200\n",
            "9993     72.9480\n",
            "Name: Profit, Length: 9994, dtype: float64)\n"
          ],
          "name": "stdout"
        }
      ]
    },
    {
      "cell_type": "code",
      "metadata": {
        "colab": {
          "base_uri": "https://localhost:8080/"
        },
        "id": "u1Z7Y-YdHC61",
        "outputId": "7ecbc4c5-bbc7-443f-ed4f-6af75ccd1e75"
      },
      "source": [
        "data = data[['City','Category','Sales']]\r\n",
        "# table = data.groupby(['City','Category']).sum('Sales')\r\n",
        "tic = data.to_dict('index')\r\n",
        "tic"
      ],
      "execution_count": 88,
      "outputs": [
        {
          "output_type": "execute_result",
          "data": {
            "text/plain": [
              "<pandas.core.groupby.generic.DataFrameGroupBy object at 0x7fed7bc8d438>"
            ]
          },
          "metadata": {
            "tags": []
          },
          "execution_count": 88
        }
      ]
    },
    {
      "cell_type": "code",
      "metadata": {
        "colab": {
          "base_uri": "https://localhost:8080/"
        },
        "id": "AuMll14YPtJ4",
        "outputId": "62ce68ea-4575-4ce7-f489-0bbcb179433a"
      },
      "source": [
        "table.info"
      ],
      "execution_count": 58,
      "outputs": [
        {
          "output_type": "stream",
          "text": [
            "<class 'pandas.core.frame.DataFrame'>\n",
            "RangeIndex: 9994 entries, 0 to 9993\n",
            "Data columns (total 3 columns):\n",
            " #   Column    Non-Null Count  Dtype  \n",
            "---  ------    --------------  -----  \n",
            " 0   City      9994 non-null   object \n",
            " 1   Category  9994 non-null   object \n",
            " 2   Sales     9994 non-null   float64\n",
            "dtypes: float64(1), object(2)\n",
            "memory usage: 234.4+ KB\n"
          ],
          "name": "stdout"
        }
      ]
    },
    {
      "cell_type": "code",
      "metadata": {
        "id": "pKWH6u724K02"
      },
      "source": [
        "data_dict = {\r\n",
        "    \"actors\": [\"brad pitt\", \"leonardo di caprio\", \"george clooney\"],\r\n",
        "    \"age\": [\"56\", \"45\", \"59\"],\r\n",
        "    \"number of movies\": [\"87\", \"53\", \"69\"],\r\n",
        "    \"date of birth\": [\"7 february 1967\", \"10 june 1996\", \"28 november 1967\"],\r\n",
        "}"
      ],
      "execution_count": 45,
      "outputs": []
    },
    {
      "cell_type": "code",
      "metadata": {
        "colab": {
          "base_uri": "https://localhost:8080/"
        },
        "id": "h40HBbbYOxou",
        "outputId": "36912721-b1fb-470a-bddc-2188cfc11ed4"
      },
      "source": [
        "table_dict = pd.DataFrame.from_dict(data_dict)\r\n",
        "table_dict.info()"
      ],
      "execution_count": 57,
      "outputs": [
        {
          "output_type": "stream",
          "text": [
            "<class 'pandas.core.frame.DataFrame'>\n",
            "RangeIndex: 3 entries, 0 to 2\n",
            "Data columns (total 4 columns):\n",
            " #   Column            Non-Null Count  Dtype \n",
            "---  ------            --------------  ----- \n",
            " 0   actors            3 non-null      object\n",
            " 1   age               3 non-null      object\n",
            " 2   number of movies  3 non-null      object\n",
            " 3   date of birth     3 non-null      object\n",
            "dtypes: object(4)\n",
            "memory usage: 224.0+ bytes\n"
          ],
          "name": "stdout"
        }
      ]
    },
    {
      "cell_type": "code",
      "metadata": {
        "colab": {
          "base_uri": "https://localhost:8080/"
        },
        "id": "HvIOmBFAPIrp",
        "outputId": "3dd9cba0-2c5e-4c46-bbd3-a324dde8e3f6"
      },
      "source": [
        "table.info()"
      ],
      "execution_count": 52,
      "outputs": [
        {
          "output_type": "stream",
          "text": [
            "<class 'pandas.core.frame.DataFrame'>\n",
            "RangeIndex: 9994 entries, 0 to 9993\n",
            "Data columns (total 3 columns):\n",
            " #   Column    Non-Null Count  Dtype  \n",
            "---  ------    --------------  -----  \n",
            " 0   City      9994 non-null   object \n",
            " 1   Category  9994 non-null   object \n",
            " 2   Sales     9994 non-null   float64\n",
            "dtypes: float64(1), object(2)\n",
            "memory usage: 234.4+ KB\n"
          ],
          "name": "stdout"
        }
      ]
    },
    {
      "cell_type": "code",
      "metadata": {
        "id": "EjsNjjVY7Ods"
      },
      "source": [
        "query = 'Sum of sales for Furniture?'"
      ],
      "execution_count": 46,
      "outputs": []
    },
    {
      "cell_type": "code",
      "metadata": {
        "colab": {
          "base_uri": "https://localhost:8080/",
          "height": 303
        },
        "id": "7v3rGPdQ7ae8",
        "outputId": "98c52bb7-eadc-4419-817e-f50abea9dbc7"
      },
      "source": [
        "nlp_qg(tic,query)['answer']"
      ],
      "execution_count": 84,
      "outputs": [
        {
          "output_type": "error",
          "ename": "TypeError",
          "evalue": "ignored",
          "traceback": [
            "\u001b[0;31m---------------------------------------------------------------------------\u001b[0m",
            "\u001b[0;31mTypeError\u001b[0m                                 Traceback (most recent call last)",
            "\u001b[0;32m<ipython-input-84-b502f2bff7e0>\u001b[0m in \u001b[0;36m<module>\u001b[0;34m()\u001b[0m\n\u001b[0;32m----> 1\u001b[0;31m \u001b[0mnlp_qg\u001b[0m\u001b[0;34m(\u001b[0m\u001b[0mtic\u001b[0m\u001b[0;34m,\u001b[0m\u001b[0mquery\u001b[0m\u001b[0;34m)\u001b[0m\u001b[0;34m[\u001b[0m\u001b[0;34m'answer'\u001b[0m\u001b[0;34m]\u001b[0m\u001b[0;34m\u001b[0m\u001b[0;34m\u001b[0m\u001b[0m\n\u001b[0m",
            "\u001b[0;32m/usr/local/lib/python3.6/dist-packages/transformers/pipelines.py\u001b[0m in \u001b[0;36m__call__\u001b[0;34m(self, *args, **kwargs)\u001b[0m\n\u001b[1;32m   2288\u001b[0m             \u001b[0mtable\u001b[0m\u001b[0;34m,\u001b[0m \u001b[0mquery\u001b[0m \u001b[0;34m=\u001b[0m \u001b[0mpipeline_input\u001b[0m\u001b[0;34m[\u001b[0m\u001b[0;34m\"table\"\u001b[0m\u001b[0;34m]\u001b[0m\u001b[0;34m,\u001b[0m \u001b[0mpipeline_input\u001b[0m\u001b[0;34m[\u001b[0m\u001b[0;34m\"query\"\u001b[0m\u001b[0;34m]\u001b[0m\u001b[0;34m\u001b[0m\u001b[0;34m\u001b[0m\u001b[0m\n\u001b[1;32m   2289\u001b[0m             inputs = self.tokenizer(\n\u001b[0;32m-> 2290\u001b[0;31m                 \u001b[0mtable\u001b[0m\u001b[0;34m,\u001b[0m \u001b[0mquery\u001b[0m\u001b[0;34m,\u001b[0m \u001b[0mreturn_tensors\u001b[0m\u001b[0;34m=\u001b[0m\u001b[0mself\u001b[0m\u001b[0;34m.\u001b[0m\u001b[0mframework\u001b[0m\u001b[0;34m,\u001b[0m \u001b[0mtruncation\u001b[0m\u001b[0;34m=\u001b[0m\u001b[0;34m\"drop_rows_to_fit\"\u001b[0m\u001b[0;34m,\u001b[0m \u001b[0mpadding\u001b[0m\u001b[0;34m=\u001b[0m\u001b[0mpadding\u001b[0m\u001b[0;34m\u001b[0m\u001b[0;34m\u001b[0m\u001b[0m\n\u001b[0m\u001b[1;32m   2291\u001b[0m             )\n\u001b[1;32m   2292\u001b[0m \u001b[0;34m\u001b[0m\u001b[0m\n",
            "\u001b[0;32m/usr/local/lib/python3.6/dist-packages/transformers/models/tapas/tokenization_tapas.py\u001b[0m in \u001b[0;36m__call__\u001b[0;34m(self, table, queries, answer_coordinates, answer_text, add_special_tokens, padding, truncation, max_length, pad_to_multiple_of, return_tensors, return_token_type_ids, return_attention_mask, return_overflowing_tokens, return_special_tokens_mask, return_offsets_mapping, return_length, verbose, **kwargs)\u001b[0m\n\u001b[1;32m    645\u001b[0m                 \u001b[0mreturn_length\u001b[0m\u001b[0;34m=\u001b[0m\u001b[0mreturn_length\u001b[0m\u001b[0;34m,\u001b[0m\u001b[0;34m\u001b[0m\u001b[0;34m\u001b[0m\u001b[0m\n\u001b[1;32m    646\u001b[0m                 \u001b[0mverbose\u001b[0m\u001b[0;34m=\u001b[0m\u001b[0mverbose\u001b[0m\u001b[0;34m,\u001b[0m\u001b[0;34m\u001b[0m\u001b[0;34m\u001b[0m\u001b[0m\n\u001b[0;32m--> 647\u001b[0;31m                 \u001b[0;34m**\u001b[0m\u001b[0mkwargs\u001b[0m\u001b[0;34m,\u001b[0m\u001b[0;34m\u001b[0m\u001b[0;34m\u001b[0m\u001b[0m\n\u001b[0m\u001b[1;32m    648\u001b[0m             )\n\u001b[1;32m    649\u001b[0m \u001b[0;34m\u001b[0m\u001b[0m\n",
            "\u001b[0;32m/usr/local/lib/python3.6/dist-packages/transformers/models/tapas/tokenization_tapas.py\u001b[0m in \u001b[0;36mencode_plus\u001b[0;34m(self, table, query, answer_coordinates, answer_text, add_special_tokens, padding, truncation, max_length, pad_to_multiple_of, return_tensors, return_token_type_ids, return_attention_mask, return_special_tokens_mask, return_offsets_mapping, return_length, verbose, **kwargs)\u001b[0m\n\u001b[1;32m    993\u001b[0m             \u001b[0mreturn_length\u001b[0m\u001b[0;34m=\u001b[0m\u001b[0mreturn_length\u001b[0m\u001b[0;34m,\u001b[0m\u001b[0;34m\u001b[0m\u001b[0;34m\u001b[0m\u001b[0m\n\u001b[1;32m    994\u001b[0m             \u001b[0mverbose\u001b[0m\u001b[0;34m=\u001b[0m\u001b[0mverbose\u001b[0m\u001b[0;34m,\u001b[0m\u001b[0;34m\u001b[0m\u001b[0;34m\u001b[0m\u001b[0m\n\u001b[0;32m--> 995\u001b[0;31m             \u001b[0;34m**\u001b[0m\u001b[0mkwargs\u001b[0m\u001b[0;34m,\u001b[0m\u001b[0;34m\u001b[0m\u001b[0;34m\u001b[0m\u001b[0m\n\u001b[0m\u001b[1;32m    996\u001b[0m         )\n\u001b[1;32m    997\u001b[0m \u001b[0;34m\u001b[0m\u001b[0m\n",
            "\u001b[0;32m/usr/local/lib/python3.6/dist-packages/transformers/models/tapas/tokenization_tapas.py\u001b[0m in \u001b[0;36m_encode_plus\u001b[0;34m(self, table, query, answer_coordinates, answer_text, add_special_tokens, padding, truncation, max_length, pad_to_multiple_of, return_tensors, return_token_type_ids, return_attention_mask, return_special_tokens_mask, return_offsets_mapping, return_length, verbose, **kwargs)\u001b[0m\n\u001b[1;32m   1027\u001b[0m             )\n\u001b[1;32m   1028\u001b[0m \u001b[0;34m\u001b[0m\u001b[0m\n\u001b[0;32m-> 1029\u001b[0;31m         \u001b[0mtable_tokens\u001b[0m \u001b[0;34m=\u001b[0m \u001b[0mself\u001b[0m\u001b[0;34m.\u001b[0m\u001b[0m_tokenize_table\u001b[0m\u001b[0;34m(\u001b[0m\u001b[0mtable\u001b[0m\u001b[0;34m)\u001b[0m\u001b[0;34m\u001b[0m\u001b[0;34m\u001b[0m\u001b[0m\n\u001b[0m\u001b[1;32m   1030\u001b[0m         \u001b[0mquery_tokens\u001b[0m \u001b[0;34m=\u001b[0m \u001b[0mself\u001b[0m\u001b[0;34m.\u001b[0m\u001b[0mtokenize\u001b[0m\u001b[0;34m(\u001b[0m\u001b[0mquery\u001b[0m\u001b[0;34m)\u001b[0m\u001b[0;34m\u001b[0m\u001b[0;34m\u001b[0m\u001b[0m\n\u001b[1;32m   1031\u001b[0m \u001b[0;34m\u001b[0m\u001b[0m\n",
            "\u001b[0;32m/usr/local/lib/python3.6/dist-packages/transformers/models/tapas/tokenization_tapas.py\u001b[0m in \u001b[0;36m_tokenize_table\u001b[0;34m(self, table)\u001b[0m\n\u001b[1;32m   1326\u001b[0m             \u001b[0mtokenized_row\u001b[0m \u001b[0;34m=\u001b[0m \u001b[0;34m[\u001b[0m\u001b[0;34m]\u001b[0m\u001b[0;34m\u001b[0m\u001b[0;34m\u001b[0m\u001b[0m\n\u001b[1;32m   1327\u001b[0m             \u001b[0;32mfor\u001b[0m \u001b[0mcell\u001b[0m \u001b[0;32min\u001b[0m \u001b[0mrow\u001b[0m\u001b[0;34m:\u001b[0m\u001b[0;34m\u001b[0m\u001b[0;34m\u001b[0m\u001b[0m\n\u001b[0;32m-> 1328\u001b[0;31m                 \u001b[0mtokenized_row\u001b[0m\u001b[0;34m.\u001b[0m\u001b[0mappend\u001b[0m\u001b[0;34m(\u001b[0m\u001b[0mself\u001b[0m\u001b[0;34m.\u001b[0m\u001b[0mtokenize\u001b[0m\u001b[0;34m(\u001b[0m\u001b[0mcell\u001b[0m\u001b[0;34m)\u001b[0m\u001b[0;34m)\u001b[0m\u001b[0;34m\u001b[0m\u001b[0;34m\u001b[0m\u001b[0m\n\u001b[0m\u001b[1;32m   1329\u001b[0m             \u001b[0mtokenized_rows\u001b[0m\u001b[0;34m.\u001b[0m\u001b[0mappend\u001b[0m\u001b[0;34m(\u001b[0m\u001b[0mtokenized_row\u001b[0m\u001b[0;34m)\u001b[0m\u001b[0;34m\u001b[0m\u001b[0;34m\u001b[0m\u001b[0m\n\u001b[1;32m   1330\u001b[0m \u001b[0;34m\u001b[0m\u001b[0m\n",
            "\u001b[0;32m/usr/local/lib/python3.6/dist-packages/transformers/tokenization_utils.py\u001b[0m in \u001b[0;36mtokenize\u001b[0;34m(self, text, **kwargs)\u001b[0m\n\u001b[1;32m    261\u001b[0m             \u001b[0mescaped_special_toks\u001b[0m \u001b[0;34m=\u001b[0m \u001b[0;34m[\u001b[0m\u001b[0mre\u001b[0m\u001b[0;34m.\u001b[0m\u001b[0mescape\u001b[0m\u001b[0;34m(\u001b[0m\u001b[0ms_tok\u001b[0m\u001b[0;34m)\u001b[0m \u001b[0;32mfor\u001b[0m \u001b[0ms_tok\u001b[0m \u001b[0;32min\u001b[0m \u001b[0mself\u001b[0m\u001b[0;34m.\u001b[0m\u001b[0mall_special_tokens\u001b[0m\u001b[0;34m]\u001b[0m\u001b[0;34m\u001b[0m\u001b[0;34m\u001b[0m\u001b[0m\n\u001b[1;32m    262\u001b[0m             \u001b[0mpattern\u001b[0m \u001b[0;34m=\u001b[0m \u001b[0;34mr\"(\"\u001b[0m \u001b[0;34m+\u001b[0m \u001b[0;34mr\"|\"\u001b[0m\u001b[0;34m.\u001b[0m\u001b[0mjoin\u001b[0m\u001b[0;34m(\u001b[0m\u001b[0mescaped_special_toks\u001b[0m\u001b[0;34m)\u001b[0m \u001b[0;34m+\u001b[0m \u001b[0;34mr\")|\"\u001b[0m \u001b[0;34m+\u001b[0m \u001b[0;34mr\"(.+?)\"\u001b[0m\u001b[0;34m\u001b[0m\u001b[0;34m\u001b[0m\u001b[0m\n\u001b[0;32m--> 263\u001b[0;31m             \u001b[0mtext\u001b[0m \u001b[0;34m=\u001b[0m \u001b[0mre\u001b[0m\u001b[0;34m.\u001b[0m\u001b[0msub\u001b[0m\u001b[0;34m(\u001b[0m\u001b[0mpattern\u001b[0m\u001b[0;34m,\u001b[0m \u001b[0;32mlambda\u001b[0m \u001b[0mm\u001b[0m\u001b[0;34m:\u001b[0m \u001b[0mm\u001b[0m\u001b[0;34m.\u001b[0m\u001b[0mgroups\u001b[0m\u001b[0;34m(\u001b[0m\u001b[0;34m)\u001b[0m\u001b[0;34m[\u001b[0m\u001b[0;36m0\u001b[0m\u001b[0;34m]\u001b[0m \u001b[0;32mor\u001b[0m \u001b[0mm\u001b[0m\u001b[0;34m.\u001b[0m\u001b[0mgroups\u001b[0m\u001b[0;34m(\u001b[0m\u001b[0;34m)\u001b[0m\u001b[0;34m[\u001b[0m\u001b[0;36m1\u001b[0m\u001b[0;34m]\u001b[0m\u001b[0;34m.\u001b[0m\u001b[0mlower\u001b[0m\u001b[0;34m(\u001b[0m\u001b[0;34m)\u001b[0m\u001b[0;34m,\u001b[0m \u001b[0mtext\u001b[0m\u001b[0;34m)\u001b[0m\u001b[0;34m\u001b[0m\u001b[0;34m\u001b[0m\u001b[0m\n\u001b[0m\u001b[1;32m    264\u001b[0m \u001b[0;34m\u001b[0m\u001b[0m\n\u001b[1;32m    265\u001b[0m         \u001b[0;32mdef\u001b[0m \u001b[0msplit_on_token\u001b[0m\u001b[0;34m(\u001b[0m\u001b[0mtok\u001b[0m\u001b[0;34m,\u001b[0m \u001b[0mtext\u001b[0m\u001b[0;34m)\u001b[0m\u001b[0;34m:\u001b[0m\u001b[0;34m\u001b[0m\u001b[0;34m\u001b[0m\u001b[0m\n",
            "\u001b[0;32m/usr/lib/python3.6/re.py\u001b[0m in \u001b[0;36msub\u001b[0;34m(pattern, repl, string, count, flags)\u001b[0m\n\u001b[1;32m    189\u001b[0m     \u001b[0ma\u001b[0m \u001b[0mcallable\u001b[0m\u001b[0;34m,\u001b[0m \u001b[0mit\u001b[0m\u001b[0;31m'\u001b[0m\u001b[0ms\u001b[0m \u001b[0mpassed\u001b[0m \u001b[0mthe\u001b[0m \u001b[0mmatch\u001b[0m \u001b[0mobject\u001b[0m \u001b[0;32mand\u001b[0m \u001b[0mmust\u001b[0m \u001b[0;32mreturn\u001b[0m\u001b[0;34m\u001b[0m\u001b[0;34m\u001b[0m\u001b[0m\n\u001b[1;32m    190\u001b[0m     a replacement string to be used.\"\"\"\n\u001b[0;32m--> 191\u001b[0;31m     \u001b[0;32mreturn\u001b[0m \u001b[0m_compile\u001b[0m\u001b[0;34m(\u001b[0m\u001b[0mpattern\u001b[0m\u001b[0;34m,\u001b[0m \u001b[0mflags\u001b[0m\u001b[0;34m)\u001b[0m\u001b[0;34m.\u001b[0m\u001b[0msub\u001b[0m\u001b[0;34m(\u001b[0m\u001b[0mrepl\u001b[0m\u001b[0;34m,\u001b[0m \u001b[0mstring\u001b[0m\u001b[0;34m,\u001b[0m \u001b[0mcount\u001b[0m\u001b[0;34m)\u001b[0m\u001b[0;34m\u001b[0m\u001b[0;34m\u001b[0m\u001b[0m\n\u001b[0m\u001b[1;32m    192\u001b[0m \u001b[0;34m\u001b[0m\u001b[0m\n\u001b[1;32m    193\u001b[0m \u001b[0;32mdef\u001b[0m \u001b[0msubn\u001b[0m\u001b[0;34m(\u001b[0m\u001b[0mpattern\u001b[0m\u001b[0;34m,\u001b[0m \u001b[0mrepl\u001b[0m\u001b[0;34m,\u001b[0m \u001b[0mstring\u001b[0m\u001b[0;34m,\u001b[0m \u001b[0mcount\u001b[0m\u001b[0;34m=\u001b[0m\u001b[0;36m0\u001b[0m\u001b[0;34m,\u001b[0m \u001b[0mflags\u001b[0m\u001b[0;34m=\u001b[0m\u001b[0;36m0\u001b[0m\u001b[0;34m)\u001b[0m\u001b[0;34m:\u001b[0m\u001b[0;34m\u001b[0m\u001b[0;34m\u001b[0m\u001b[0m\n",
            "\u001b[0;31mTypeError\u001b[0m: expected string or bytes-like object"
          ]
        }
      ]
    },
    {
      "cell_type": "code",
      "metadata": {
        "id": "jtC-XD_E7cbc"
      },
      "source": [
        ""
      ],
      "execution_count": null,
      "outputs": []
    }
  ]
}